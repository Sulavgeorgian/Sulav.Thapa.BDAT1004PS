{
 "cells": [
  {
   "cell_type": "markdown",
   "id": "ba3c782b",
   "metadata": {},
   "source": [
    "# Question 1\n",
    "* What data type is each of the following (evaluate where necessary)?\n",
    "* 5.0 ==> float\n",
    "* 5 > 1 ==> bool\n",
    "* '5' ==> string\n",
    "* 5 * 2 ==> intger\n",
    "* '5' * 2 ==> string\n",
    "* '5' + '2'==> string\n",
    "* 5 / 2 ==> float\n",
    "* 5%2 ==> integer\n",
    "* {5, 2, 1} ==> set\n",
    "* 5==3 ==> bool\n",
    "* Pi == float\n"
   ]
  },
  {
   "cell_type": "code",
   "execution_count": 2,
   "id": "8369b33c",
   "metadata": {},
   "outputs": [
    {
     "name": "stdout",
     "output_type": "stream",
     "text": [
      "<class 'float'>\n",
      "<class 'bool'>\n",
      "<class 'str'>\n",
      "<class 'int'>\n",
      "<class 'str'>\n",
      "<class 'str'>\n",
      "<class 'float'>\n",
      "<class 'int'>\n",
      "<class 'set'>\n",
      "<class 'bool'>\n",
      "<class 'float'>\n"
     ]
    }
   ],
   "source": [
    "import math\n",
    "print(type(5.0))\n",
    "print(type(5>1))\n",
    "print(type('5'))\n",
    "print(type(5*2))\n",
    "print(type('5'*2))\n",
    "print(type('5'+'2'))\n",
    "print(type(5/2))\n",
    "print(type(5%2))\n",
    "print(type({5,2,1}))\n",
    "print(type(5==3))\n",
    "print(type(math.pi))"
   ]
  },
  {
   "cell_type": "markdown",
   "id": "fe6a561f",
   "metadata": {},
   "source": [
    "# Question 2\n",
    "* a. How many letters are there in 'Supercalifragilisticexpialidocious'?"
   ]
  },
  {
   "cell_type": "code",
   "execution_count": 3,
   "id": "646a16df",
   "metadata": {},
   "outputs": [
    {
     "name": "stdout",
     "output_type": "stream",
     "text": [
      "34\n"
     ]
    }
   ],
   "source": [
    "letter = 'Supercalifragilisticexpialidocious'\n",
    "count = 0\n",
    "for char in letter: \n",
    "    count +=1 # we can use len() method for direct calculation\n",
    "print(count)"
   ]
  },
  {
   "cell_type": "markdown",
   "id": "8b53b3ec",
   "metadata": {},
   "source": [
    "* b. Does 'Supercalifragilisticexpialidocious' contain 'ice' as a substring?"
   ]
  },
  {
   "cell_type": "code",
   "execution_count": 3,
   "id": "d7e1f32c",
   "metadata": {},
   "outputs": [
    {
     "name": "stdout",
     "output_type": "stream",
     "text": [
      "Yes\n"
     ]
    }
   ],
   "source": [
    "letter =  'Supercalifragilisticexpialidocious'\n",
    "subLetter = 'ice'\n",
    "if subLetter in letter:\n",
    "    print('Yes')\n",
    "else:\n",
    "    print('No')"
   ]
  },
  {
   "cell_type": "markdown",
   "id": "6debdb49",
   "metadata": {},
   "source": [
    "* c. Which of the following words is the longest: Supercalifragilisticexpialidocious, Honorificabilitudinitatibus, or Bababadalgharaghtakamminarronnkonn?"
   ]
  },
  {
   "cell_type": "code",
   "execution_count": 4,
   "id": "7b37a9fc",
   "metadata": {},
   "outputs": [
    {
     "name": "stdout",
     "output_type": "stream",
     "text": [
      "The longest word is:  Supercalifragilisticexpialidocious\n"
     ]
    }
   ],
   "source": [
    "words = ['Supercalifragilisticexpialidocious','Honorificabilitudinitatibus','Bababadalgharaghtakamminarronnkonn']\n",
    "\n",
    "longest_word = max(words, key = len)\n",
    "\n",
    "print(\"The longest word is: \", longest_word)"
   ]
  },
  {
   "cell_type": "markdown",
   "id": "3a07c005",
   "metadata": {},
   "source": [
    "* d. Which composer comes first in the dictionary: 'Berlioz', 'Borodin', 'Brian', 'Bartok', 'Bellini', 'Buxtehude', 'Bernstein'. Which one comes last?"
   ]
  },
  {
   "cell_type": "code",
   "execution_count": 5,
   "id": "43f5aecb",
   "metadata": {},
   "outputs": [
    {
     "name": "stdout",
     "output_type": "stream",
     "text": [
      "The first composer is:  Bartok\n",
      "The last composer is:  Buxtehude\n"
     ]
    }
   ],
   "source": [
    "composer_list = ['Berlioz', 'Borodin', 'Brian','Bartok', 'Bellini', 'Buxtehude', 'Bernstein']\n",
    "\n",
    "first_composer = min(composer_list)\n",
    "last_composer = max(composer_list)\n",
    "\n",
    "print(\"The first composer is: \", first_composer)\n",
    "print(\"The last composer is: \", last_composer)"
   ]
  },
  {
   "cell_type": "markdown",
   "id": "c4149fab",
   "metadata": {},
   "source": [
    "# Question 3.\n",
    "* Implement function triangleArea(a,b,c) that takes as input the lengths of the 3 sides of a triangle and returns the area of the triangle. By Heron's formula, the area of a triangle with side lengths a, b, and c is sqrt(s(s - a)(s -b)(s -c)), where s = (a +b + c) /2.\n",
    "* triangleArea(2,2,2)\n",
    "* 1.7320508075688772"
   ]
  },
  {
   "cell_type": "code",
   "execution_count": 6,
   "id": "d683df5b",
   "metadata": {},
   "outputs": [
    {
     "name": "stdout",
     "output_type": "stream",
     "text": [
      "Enter lenght of side a: 2\n",
      "Enter lenght of side b: 2\n",
      "Enter length of side c: 2\n",
      "1.7320508075688772\n"
     ]
    }
   ],
   "source": [
    "def triangleArea(a,b,c):\n",
    "    \n",
    "    s = (a+b+c)/2\n",
    "    area =(s*(s-a)*(s-b)*(s-c))**0.5 \n",
    "    return area\n",
    "\n",
    "a = int(input(\"Enter lenght of side a: \")) \n",
    "b= int(input(\"Enter lenght of side b: \"))\n",
    "c = int(input(\"Enter length of side c: \"))\n",
    "\n",
    "print(triangleArea(a, b,c)) "
   ]
  },
  {
   "cell_type": "markdown",
   "id": "7d333adf",
   "metadata": {},
   "source": [
    "# Question 4\n",
    "* Write a program in python to separate odd and even integers in separate arrays. Go to the editor\n",
    "* Test Data :\n",
    "* Input the number of elements to be stored in the array :5\n",
    "* Input 5 elements in the array :\n",
    "* element - 0 : 25\n",
    "* element - 1 : 47\n",
    "* element - 2 : 42\n",
    "* element - 3 : 56\n",
    "* element - 4 : 32\n",
    "* Expected Output:\n",
    "* The Even elements are: 42 56 32\n",
    "* The Odd elements are : 25 47"
   ]
  },
  {
   "cell_type": "code",
   "execution_count": 7,
   "id": "b6012acd",
   "metadata": {},
   "outputs": [
    {
     "name": "stdout",
     "output_type": "stream",
     "text": [
      "Enter the number of elements to be stored: 5\n",
      "element- 0:  25\n",
      "element- 1:  47\n",
      "element- 2:  42\n",
      "element- 3:  56\n",
      "element- 4:  32\n",
      "Even Elements are:  [42, 56, 32]\n",
      "Odd Elements are:  [25, 47]\n"
     ]
    }
   ],
   "source": [
    "array = [] \n",
    "evenArray = []\n",
    "oddArray = [] \n",
    "\n",
    "number_of_elemet = int(input(\"Enter the number of elements to be stored: \"))\n",
    "\n",
    "for i in range(5):\n",
    "    data = int(input(f\"element- {i}:  \"))\n",
    "    array.append(data)\n",
    "    \n",
    "for i in array:\n",
    "    \n",
    "    if i %2==0: \n",
    "        evenArray.append(i)\n",
    "    else:\n",
    "        oddArray.append(i)\n",
    "        \n",
    "print(\"Even Elements are: \", evenArray)\n",
    "print(\"Odd Elements are: \", oddArray)"
   ]
  },
  {
   "cell_type": "markdown",
   "id": "290767ab",
   "metadata": {},
   "source": [
    "# Question 5\n",
    "* a. Write a function inside(x,y,x1,y1,x2,y2) that returns True or False depending on whether the point (x,y) lies in the rectangle with lower left corner (x1,y1) and upper right corner (x2,y2).\n",
    "* inside(1,1,0,0,2,3)\n",
    "* True\n",
    "* inside(-1,-1,0,0,2,3)\n",
    "* False"
   ]
  },
  {
   "cell_type": "code",
   "execution_count": 8,
   "id": "43b170e6",
   "metadata": {},
   "outputs": [
    {
     "name": "stdout",
     "output_type": "stream",
     "text": [
      "True\n",
      "False\n"
     ]
    }
   ],
   "source": [
    "def inside(X,Y,X1,Y1,X2,Y2): \n",
    "    if X1 <= X <=X2 and Y1<=Y<=Y2: \n",
    "        return True\n",
    "    else:\n",
    "        return False\n",
    "    \n",
    "result1 = inside(1,1,0,0,2,3) \n",
    "print(result1)\n",
    "\n",
    "result2 = inside(-1,-1,0,0,2,3) \n",
    "print(result2)"
   ]
  },
  {
   "cell_type": "markdown",
   "id": "b9152cc3",
   "metadata": {},
   "source": [
    "* b. Use function inside() from part a. to write an expression that tests whether the point (1,1) lies in both of the following rectangles: one with lower left corner (0.3, 0.5) and upper right corner (1.1, 0.7) and the other with lower left corner (0.5, 0.2) and upper right corner (1.1, 2)."
   ]
  },
  {
   "cell_type": "code",
   "execution_count": 9,
   "id": "7d6dd2ca",
   "metadata": {},
   "outputs": [
    {
     "name": "stdout",
     "output_type": "stream",
     "text": [
      "False\n"
     ]
    }
   ],
   "source": [
    "result3 = inside(1,1,0.3,0.5,1.1,0.7)\n",
    "print(result3)"
   ]
  },
  {
   "cell_type": "code",
   "execution_count": 10,
   "id": "3961fb9e",
   "metadata": {},
   "outputs": [
    {
     "name": "stdout",
     "output_type": "stream",
     "text": [
      "True\n"
     ]
    }
   ],
   "source": [
    "result4 = inside(1,1,0.5,0.2,1.1,2)\n",
    "print(result4)"
   ]
  },
  {
   "cell_type": "markdown",
   "id": "343cf459",
   "metadata": {},
   "source": [
    "# Question 6\n",
    "* 16. You can turn a word into pig-Latin using the following two rules (simplified):\n",
    "* If the word starts with a consonant, move that letter to the end and append 'ay'. For example, 'happy' becomes 'appyhay' and 'pencil' becomes 'encilpay'.\n",
    "* If the word starts with a vowel, simply append 'way' to the end of the word. For example, 'enter' becomes 'enterway' and 'other' becomes 'otherway' . For our purposes, there are 5 vowels: a, e, i, o, u (so we count y as a consonant).\n",
    "* Write a function pig() that takes a word (i.e., a string) as input and returns its pig-Latin form. Your function should still work if the input word contains upper case characters. Your output should always be lower case however.\n",
    "* >>> pig('happy')\n",
    "* 'appyhay'\n",
    "* >>> pig('Enter')\n",
    "* 'enterway'"
   ]
  },
  {
   "cell_type": "code",
   "execution_count": 11,
   "id": "6f4ea32b",
   "metadata": {},
   "outputs": [
    {
     "name": "stdout",
     "output_type": "stream",
     "text": [
      "appyhay\n",
      "enterway\n",
      "encilpay\n",
      "otherway\n",
      "unilsay\n"
     ]
    }
   ],
   "source": [
    "def pig(word_data):\n",
    "    \n",
    "    word_data = word_data.lower() \n",
    "    vowel_letter = ['a','e','i','o','u']\n",
    "    \n",
    "    if word_data[0] in vowel_letter:\n",
    "        \n",
    "        word_data = word_data+'way'\n",
    "        return word_data\n",
    "    \n",
    "    else:\n",
    "        word_data = word_data[1:]+word_data[0]+'ay'\n",
    "        return word_data\n",
    "   \n",
    "    \n",
    "word1 = \"happy\"\n",
    "word2 = \"Enter\"\n",
    "word3 = \"pencil\"\n",
    "word4 =\"other\"\n",
    "word5 = \"SUNIL\"\n",
    "\n",
    "print(pig(word1))\n",
    "print(pig(word2))\n",
    "print(pig(word3))\n",
    "print(pig(word4))\n",
    "print(pig(word5))"
   ]
  },
  {
   "cell_type": "markdown",
   "id": "174d2f34",
   "metadata": {},
   "source": [
    "# Question 7\n",
    "* File bloodtype1.txt records blood-types of patients (A, B, AB, O or OO) at a clinic. Write a function bldcount() that reads the file with name name and reports (i.e., prints) how many patients there are in each bloodtype."
   ]
  },
  {
   "cell_type": "code",
   "execution_count": 13,
   "id": "5d6c0d1b",
   "metadata": {},
   "outputs": [
    {
     "name": "stdout",
     "output_type": "stream",
     "text": [
      "There are 15 patients of blood type A.\n",
      "There is 1 patient of blood type B.\n",
      "There are 13 patients of blood type AB.\n",
      "There are 15 patients of blood type O.\n",
      "There are 0 patients of blood type OO.\n"
     ]
    }
   ],
   "source": [
    "def bldcount(fname):\n",
    "    \n",
    "    counts = {\"A\": 0, \"B\": 0, \"AB\": 0, \"O\": 0, \"OO\": 0} \n",
    "\n",
    "    try:\n",
    "        with open(fname, \"r\") as file:\n",
    "            \n",
    "            data = file.read()\n",
    "            \n",
    "        btypes = data.split()\n",
    "        for btype in btypes:\n",
    "            if btype in counts:\n",
    "                counts[btype] +=1        \n",
    "        for blood_type, count in counts.items():\n",
    "            if count==1:\n",
    "                print(f\"There is {count} patient of blood type {blood_type}.\")\n",
    "            else:\n",
    "                print(f\"There are {count} patients of blood type {blood_type}.\")\n",
    "            \n",
    "                \n",
    "    except FileNotFoundError:\n",
    "        print(\"File not found.\")\n",
    "\n",
    "bldcount(\"bloodtype1.txt\")"
   ]
  },
  {
   "cell_type": "markdown",
   "id": "c1e35df2",
   "metadata": {},
   "source": [
    "# Question 8\n",
    "* Write a function curconv() that takes as input:\n",
    "* a currency represented using a string (e.g., 'JPY' for the Japanese Yen or 'EUR' for the Euro)\n",
    "* an amount and then converts and returns the amount in US dollars."
   ]
  },
  {
   "cell_type": "code",
   "execution_count": 14,
   "id": "0a825bb8",
   "metadata": {},
   "outputs": [
    {
     "data": {
      "text/plain": [
       "122.96544"
      ]
     },
     "execution_count": 14,
     "metadata": {},
     "output_type": "execute_result"
    }
   ],
   "source": [
    "def curconv(currency, amount):\n",
    "    \n",
    "    currency_rate = {} #\n",
    "    try: \n",
    "        with open('currencies.txt', 'r') as file: \n",
    "    \n",
    "            for data in file:\n",
    "                \n",
    "                currency_parts = data.strip().split()\n",
    "                currency_code, rate= currency_parts[:2]\n",
    "                currency_rate[currency_code]=float(rate)\n",
    "                \n",
    "        if currency in currency_rate:\n",
    "            usd_amount = amount* currency_rate[currency] \n",
    "            return usd_amount\n",
    "            \n",
    "        else:\n",
    "            print(\"Currency not found in currency rate\")\n",
    "                \n",
    "    except FileNotFoundError:\n",
    "        print(\"File not found\")     \n",
    "            \n",
    "curconv('EUR', 100)"
   ]
  },
  {
   "cell_type": "code",
   "execution_count": 15,
   "id": "a9aa33e3",
   "metadata": {},
   "outputs": [
    {
     "data": {
      "text/plain": [
       "1.241401"
      ]
     },
     "execution_count": 15,
     "metadata": {},
     "output_type": "execute_result"
    }
   ],
   "source": [
    "curconv('JPY',100)"
   ]
  },
  {
   "cell_type": "code",
   "execution_count": 16,
   "id": "f24a10e4",
   "metadata": {},
   "outputs": [
    {
     "data": {
      "text/plain": [
       "30.073919999999998"
      ]
     },
     "execution_count": 16,
     "metadata": {},
     "output_type": "execute_result"
    }
   ],
   "source": [
    "curconv('MXN', 400)"
   ]
  },
  {
   "cell_type": "markdown",
   "id": "58b71bb0",
   "metadata": {},
   "source": [
    "# Question 9\n",
    "* Each of the following will cause an exception (an error). Identify what type of exception each will cause.\n",
    "* Trying to add incompatible variables, as in adding 6 + ‘a’\n",
    " * Answer:- TypeError\n",
    "* Referring to the 12th item of a list that has only 10 items\n",
    "* Answer:- IndexError\n",
    "* Using a value that is out of range for a function’s input, such as calling math.sqrt( -1.0)\n",
    "* Answer:- ValueError\n",
    "* Using an undeclared variable, such as print(x) when x has not been defined\n",
    "* Answer:- NameError\n",
    "* Trying to open a file that does not exist, such as mistyping the file name or looking in the wrong directory.\n",
    "* Answer:- FileNotFoundErro"
   ]
  },
  {
   "cell_type": "markdown",
   "id": "74d43b21",
   "metadata": {},
   "source": [
    "# Question 10\n",
    "* Encryption is the process of hiding the meaning of a text by substituting letters in the message with other letters, according to some system. If the process is successful, no one but the intended recipient can understand the encrypted message. Cryptanalysis refers to attempts to undo the encryption, even if some details of the encryption are unknown (for example, if an encrypted message has been intercepted). The first step of cryptanalysis is often to build up a table of letter frequencies in the encrypted text. Assume that the string letters is already defined as 'abcdefghijklmnopqrstuvwxyz'. Write a function called frequencies() that takes a string as its only parameter, and returns a list of integers, showing the number of times each character appears in the text. Your function may ignore any characters that are not in letters.\n",
    "* frequencies('The quick red fox got bored and went home.')\n",
    "[1, 1, 1, 3, 5, 1, 1, 2, 1, 0, 1, 0, 1, 2, 4, 0, 1, 2, 0, 2, 1, 0, 1, 1, 0, 0]"
   ]
  },
  {
   "cell_type": "code",
   "execution_count": 5,
   "id": "b1d6bb3d",
   "metadata": {},
   "outputs": [
    {
     "name": "stdout",
     "output_type": "stream",
     "text": [
      "[1, 1, 1, 3, 5, 1, 1, 2, 1, 0, 1, 0, 1, 2, 4, 0, 1, 2, 0, 3, 1, 0, 1, 1, 0, 0]\n"
     ]
    }
   ],
   "source": [
    "def frequencies(text):\n",
    "    \n",
    "    letters = 'abcdefghijklmnopqrstuvwxyz'\n",
    "    word_count = {} # initializing dictionary\n",
    "    \n",
    "    for char in letters:\n",
    "        word_count[char] =0 # set 0 for each char\n",
    "        \n",
    "    text = text.lower() \n",
    "    \n",
    "    for char in text: # counting each char from whole text or sentence\n",
    "        if char in letters:\n",
    "            word_count[char] +=1\n",
    "            \n",
    "    frequencies_count = list(word_count.values()) # taking only dict values\n",
    "    return frequencies_count\n",
    "\n",
    "text1 = frequencies('The quick red fox got bored and went home.')\n",
    "print(text1)\n"
   ]
  },
  {
   "cell_type": "code",
   "execution_count": 18,
   "id": "9486ee33",
   "metadata": {},
   "outputs": [
    {
     "name": "stdout",
     "output_type": "stream",
     "text": [
      "[1, 0, 0, 0, 1, 0, 0, 0, 0, 0, 0, 1, 0, 0, 0, 2, 0, 0, 0, 0, 0, 0, 0, 0, 0, 0]\n"
     ]
    }
   ],
   "source": [
    "text2 = frequencies('apple')\n",
    "print(text2)"
   ]
  },
  {
   "cell_type": "code",
   "execution_count": 6,
   "id": "686569ab",
   "metadata": {},
   "outputs": [
    {
     "name": "stdout",
     "output_type": "stream",
     "text": [
      "[4, 0, 0, 0, 1, 0, 0, 1, 1, 0, 0, 1, 2, 1, 0, 1, 0, 0, 2, 1, 1, 1, 0, 0, 1, 0]\n"
     ]
    }
   ],
   "source": [
    "text3 = frequencies('my name is Sulav Thapa')\n",
    "print(text3)"
   ]
  },
  {
   "cell_type": "code",
   "execution_count": null,
   "id": "451991d1",
   "metadata": {},
   "outputs": [],
   "source": []
  },
  {
   "cell_type": "code",
   "execution_count": null,
   "id": "0a6a3465",
   "metadata": {},
   "outputs": [],
   "source": []
  }
 ],
 "metadata": {
  "kernelspec": {
   "display_name": "Python 3 (ipykernel)",
   "language": "python",
   "name": "python3"
  },
  "language_info": {
   "codemirror_mode": {
    "name": "ipython",
    "version": 3
   },
   "file_extension": ".py",
   "mimetype": "text/x-python",
   "name": "python",
   "nbconvert_exporter": "python",
   "pygments_lexer": "ipython3",
   "version": "3.11.4"
  }
 },
 "nbformat": 4,
 "nbformat_minor": 5
}
